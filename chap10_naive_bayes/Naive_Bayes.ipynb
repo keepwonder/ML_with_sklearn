{
 "cells": [
  {
   "cell_type": "code",
   "execution_count": null,
   "metadata": {},
   "outputs": [],
   "source": [
    "%%cmd\n",
    "pip install watermark"
   ]
  },
  {
   "cell_type": "code",
   "execution_count": 2,
   "metadata": {},
   "outputs": [],
   "source": [
    "%load_ext watermark"
   ]
  },
  {
   "cell_type": "code",
   "execution_count": 39,
   "metadata": {},
   "outputs": [
    {
     "name": "stdout",
     "output_type": "stream",
     "text": [
      "Chiang 2020-09-17 \n",
      "\n",
      "CPython 3.7.4\n",
      "IPython 7.8.0\n",
      "\n",
      "numpy 1.19.2\n",
      "pandas 0.25.1\n",
      "matplotlib 3.3.2\n",
      "scipy 1.5.2\n",
      "sklearn 0.23.2\n",
      "\n",
      "compiler   : MSC v.1915 64 bit (AMD64)\n",
      "system     : Windows\n",
      "release    : 10\n",
      "machine    : AMD64\n",
      "processor  : Intel64 Family 6 Model 165 Stepping 5, GenuineIntel\n",
      "CPU cores  : 16\n",
      "interpreter: 64bit\n"
     ]
    }
   ],
   "source": [
    "%watermark -a 'Chiang' -d -v -m -p numpy,pandas,matplotlib,scipy,sklearn"
   ]
  },
  {
   "cell_type": "code",
   "execution_count": 10,
   "metadata": {},
   "outputs": [],
   "source": [
    "import numpy  as np\n",
    "import matplotlib.pyplot as plt\n",
    "from sklearn.naive_bayes import GaussianNB\n",
    "from sklearn.datasets import load_digits\n",
    "from sklearn.model_selection import train_test_split\n",
    "\n",
    "digits = load_digits()\n",
    "X, y = digits.data, digits.target\n",
    "\n",
    "X_train, X_test, y_train, y_test = train_test_split(X, y, test_size=0.3, random_state=250)"
   ]
  },
  {
   "cell_type": "code",
   "execution_count": 6,
   "metadata": {},
   "outputs": [
    {
     "data": {
      "text/plain": [
       "(1257, 64)"
      ]
     },
     "execution_count": 6,
     "metadata": {},
     "output_type": "execute_result"
    }
   ],
   "source": [
    "X_train.shape"
   ]
  },
  {
   "cell_type": "code",
   "execution_count": 8,
   "metadata": {},
   "outputs": [
    {
     "data": {
      "text/plain": [
       "(540, 64)"
      ]
     },
     "execution_count": 8,
     "metadata": {},
     "output_type": "execute_result"
    }
   ],
   "source": [
    "X_test.shape"
   ]
  },
  {
   "cell_type": "code",
   "execution_count": 12,
   "metadata": {},
   "outputs": [
    {
     "data": {
      "text/plain": [
       "(1257,)"
      ]
     },
     "execution_count": 12,
     "metadata": {},
     "output_type": "execute_result"
    }
   ],
   "source": [
    "y_train.shape"
   ]
  },
  {
   "cell_type": "code",
   "execution_count": 14,
   "metadata": {},
   "outputs": [
    {
     "data": {
      "text/plain": [
       "array([0, 3, 4, ..., 1, 1, 9])"
      ]
     },
     "execution_count": 14,
     "metadata": {},
     "output_type": "execute_result"
    }
   ],
   "source": [
    "y_train"
   ]
  },
  {
   "cell_type": "code",
   "execution_count": 16,
   "metadata": {},
   "outputs": [
    {
     "data": {
      "text/plain": [
       "array([0, 1, 2, 3, 4, 5, 6, 7, 8, 9])"
      ]
     },
     "execution_count": 16,
     "metadata": {},
     "output_type": "execute_result"
    }
   ],
   "source": [
    "np.unique(y_train)"
   ]
  },
  {
   "cell_type": "code",
   "execution_count": 18,
   "metadata": {},
   "outputs": [
    {
     "data": {
      "text/plain": [
       "array([ 0.,  0.,  0., 12.,  6.,  0.,  0.,  0.,  0.,  0.,  8., 15., 13.,\n",
       "        4.,  0.,  0.,  0.,  5., 16.,  6.,  3., 12.,  0.,  0.,  0.,  7.,\n",
       "       14.,  1.,  0., 11.,  5.,  0.,  0.,  3., 14.,  0.,  0.,  7., 10.,\n",
       "        0.,  0.,  1., 14.,  2.,  0.,  9.,  9.,  0.,  0.,  0.,  9., 11.,\n",
       "        6., 15.,  5.,  0.,  0.,  0.,  0., 10., 16., 11.,  0.,  0.])"
      ]
     },
     "execution_count": 18,
     "metadata": {},
     "output_type": "execute_result"
    }
   ],
   "source": [
    "X_train[0]"
   ]
  },
  {
   "cell_type": "code",
   "execution_count": 20,
   "metadata": {},
   "outputs": [],
   "source": [
    "#建模，探索建模结果\n",
    "\n",
    "gnb = GaussianNB().fit(X_train, y_train)\n",
    "acc_score = gnb.score(X_test, y_test)"
   ]
  },
  {
   "cell_type": "code",
   "execution_count": 22,
   "metadata": {},
   "outputs": [
    {
     "data": {
      "text/plain": [
       "0.825925925925926"
      ]
     },
     "execution_count": 22,
     "metadata": {},
     "output_type": "execute_result"
    }
   ],
   "source": [
    "acc_score"
   ]
  },
  {
   "cell_type": "code",
   "execution_count": 24,
   "metadata": {},
   "outputs": [],
   "source": [
    "y_pred = gnb.predict(X_test)"
   ]
  },
  {
   "cell_type": "code",
   "execution_count": 26,
   "metadata": {},
   "outputs": [
    {
     "data": {
      "text/plain": [
       "array([7, 2, 1, 4, 7, 2, 0, 4, 2, 7, 7, 5, 4, 1, 0, 1, 3, 5, 4, 4, 8, 8,\n",
       "       5, 7, 7, 1, 3, 9, 7, 7, 1, 4, 7, 8, 1, 6, 1, 8, 1, 8, 7, 9, 6, 0,\n",
       "       7, 8, 2, 8, 0, 0, 8, 1, 7, 5, 1, 4, 0, 7, 5, 3, 3, 4, 2, 8, 7, 6,\n",
       "       0, 8, 6, 3, 5, 1, 1, 7, 1, 1, 3, 4, 1, 2, 8, 5, 9, 7, 8, 4, 3, 0,\n",
       "       8, 6, 8, 9, 0, 7, 1, 8, 7, 5, 4, 1, 7, 4, 0, 5, 1, 4, 5, 8, 9, 2,\n",
       "       1, 4, 8, 2, 7, 2, 3, 1, 0, 0, 1, 6, 8, 7, 3, 5, 3, 2, 5, 1, 1, 6,\n",
       "       6, 3, 7, 7, 1, 2, 7, 2, 8, 9, 2, 0, 2, 8, 0, 0, 9, 2, 0, 7, 6, 7,\n",
       "       8, 1, 6, 4, 5, 1, 3, 6, 3, 9, 5, 6, 2, 9, 3, 6, 5, 4, 2, 2, 0, 4,\n",
       "       7, 1, 1, 6, 7, 2, 7, 7, 5, 9, 5, 5, 4, 3, 6, 1, 2, 8, 7, 2, 0, 1,\n",
       "       1, 5, 6, 3, 4, 4, 1, 1, 6, 7, 3, 5, 6, 1, 1, 3, 8, 1, 1, 8, 8, 0,\n",
       "       7, 0, 4, 7, 2, 6, 8, 0, 4, 0, 1, 1, 4, 1, 8, 5, 5, 6, 9, 9, 1, 9,\n",
       "       8, 1, 0, 3, 3, 1, 2, 1, 4, 7, 8, 8, 3, 5, 5, 9, 2, 7, 5, 9, 3, 2,\n",
       "       2, 8, 7, 8, 1, 7, 1, 1, 1, 0, 0, 0, 3, 0, 0, 6, 6, 7, 6, 9, 3, 9,\n",
       "       7, 0, 9, 7, 8, 9, 6, 6, 5, 8, 2, 6, 7, 1, 4, 6, 8, 1, 4, 1, 5, 2,\n",
       "       6, 8, 6, 6, 8, 4, 2, 2, 5, 1, 9, 6, 4, 7, 3, 0, 7, 3, 8, 1, 4, 9,\n",
       "       5, 0, 0, 1, 3, 7, 5, 6, 9, 6, 3, 1, 1, 5, 3, 7, 6, 4, 7, 2, 0, 0,\n",
       "       1, 9, 5, 1, 4, 0, 5, 2, 5, 1, 0, 9, 7, 7, 6, 9, 7, 7, 7, 7, 5, 7,\n",
       "       4, 8, 4, 4, 6, 9, 2, 1, 7, 3, 1, 1, 2, 5, 1, 4, 9, 8, 6, 3, 3, 2,\n",
       "       7, 2, 8, 5, 8, 5, 5, 8, 5, 5, 4, 1, 7, 1, 1, 5, 0, 5, 1, 8, 9, 1,\n",
       "       8, 0, 5, 3, 9, 6, 5, 3, 2, 6, 6, 7, 1, 5, 1, 6, 1, 1, 1, 3, 7, 6,\n",
       "       7, 2, 2, 7, 3, 8, 0, 1, 4, 3, 0, 7, 4, 7, 4, 3, 0, 5, 4, 6, 7, 7,\n",
       "       7, 3, 3, 6, 4, 1, 3, 9, 4, 5, 8, 2, 7, 3, 4, 0, 6, 1, 4, 2, 1, 2,\n",
       "       0, 7, 7, 2, 5, 3, 8, 4, 1, 5, 0, 9, 4, 8, 2, 2, 1, 1, 3, 0, 5, 5,\n",
       "       8, 8, 5, 8, 9, 8, 0, 1, 5, 1, 6, 9, 3, 1, 7, 7, 7, 8, 2, 6, 0, 1,\n",
       "       1, 0, 7, 4, 6, 9, 8, 1, 8, 1, 5, 7])"
      ]
     },
     "execution_count": 26,
     "metadata": {},
     "output_type": "execute_result"
    }
   ],
   "source": [
    "y_pred"
   ]
  },
  {
   "cell_type": "code",
   "execution_count": 28,
   "metadata": {},
   "outputs": [],
   "source": [
    "prob = gnb.predict_proba(X_test)"
   ]
  },
  {
   "cell_type": "code",
   "execution_count": 30,
   "metadata": {},
   "outputs": [
    {
     "data": {
      "text/plain": [
       "(540, 10)"
      ]
     },
     "execution_count": 30,
     "metadata": {},
     "output_type": "execute_result"
    }
   ],
   "source": [
    "prob.shape"
   ]
  },
  {
   "cell_type": "code",
   "execution_count": 32,
   "metadata": {},
   "outputs": [
    {
     "data": {
      "text/plain": [
       "array([[0.00000000e+000, 0.00000000e+000, 5.36939156e-036, ...,\n",
       "        1.00000000e+000, 5.03552651e-026, 8.76995854e-051],\n",
       "       [0.00000000e+000, 0.00000000e+000, 9.99999994e-001, ...,\n",
       "        0.00000000e+000, 3.20241145e-025, 1.38116154e-075],\n",
       "       [0.00000000e+000, 1.00000000e+000, 6.70634375e-024, ...,\n",
       "        1.07748896e-148, 1.35724237e-013, 5.96201065e-050],\n",
       "       ...,\n",
       "       [0.00000000e+000, 1.00000000e+000, 5.98777614e-035, ...,\n",
       "        0.00000000e+000, 6.13351362e-016, 3.60244570e-026],\n",
       "       [0.00000000e+000, 0.00000000e+000, 2.66211598e-121, ...,\n",
       "        2.97279195e-016, 1.58526722e-046, 2.83896605e-028],\n",
       "       [0.00000000e+000, 0.00000000e+000, 7.32535139e-109, ...,\n",
       "        9.99999963e-001, 3.68321399e-008, 3.23272603e-094]])"
      ]
     },
     "execution_count": 32,
     "metadata": {},
     "output_type": "execute_result"
    }
   ],
   "source": [
    "prob"
   ]
  },
  {
   "cell_type": "code",
   "execution_count": 34,
   "metadata": {},
   "outputs": [
    {
     "data": {
      "text/plain": [
       "1.0000000000000004"
      ]
     },
     "execution_count": 34,
     "metadata": {},
     "output_type": "execute_result"
    }
   ],
   "source": [
    "prob[1,:].sum()"
   ]
  },
  {
   "cell_type": "code",
   "execution_count": 36,
   "metadata": {},
   "outputs": [
    {
     "data": {
      "text/plain": [
       "array([1., 1., 1., 1., 1., 1., 1., 1., 1., 1., 1., 1., 1., 1., 1., 1., 1.,\n",
       "       1., 1., 1., 1., 1., 1., 1., 1., 1., 1., 1., 1., 1., 1., 1., 1., 1.,\n",
       "       1., 1., 1., 1., 1., 1., 1., 1., 1., 1., 1., 1., 1., 1., 1., 1., 1.,\n",
       "       1., 1., 1., 1., 1., 1., 1., 1., 1., 1., 1., 1., 1., 1., 1., 1., 1.,\n",
       "       1., 1., 1., 1., 1., 1., 1., 1., 1., 1., 1., 1., 1., 1., 1., 1., 1.,\n",
       "       1., 1., 1., 1., 1., 1., 1., 1., 1., 1., 1., 1., 1., 1., 1., 1., 1.,\n",
       "       1., 1., 1., 1., 1., 1., 1., 1., 1., 1., 1., 1., 1., 1., 1., 1., 1.,\n",
       "       1., 1., 1., 1., 1., 1., 1., 1., 1., 1., 1., 1., 1., 1., 1., 1., 1.,\n",
       "       1., 1., 1., 1., 1., 1., 1., 1., 1., 1., 1., 1., 1., 1., 1., 1., 1.,\n",
       "       1., 1., 1., 1., 1., 1., 1., 1., 1., 1., 1., 1., 1., 1., 1., 1., 1.,\n",
       "       1., 1., 1., 1., 1., 1., 1., 1., 1., 1., 1., 1., 1., 1., 1., 1., 1.,\n",
       "       1., 1., 1., 1., 1., 1., 1., 1., 1., 1., 1., 1., 1., 1., 1., 1., 1.,\n",
       "       1., 1., 1., 1., 1., 1., 1., 1., 1., 1., 1., 1., 1., 1., 1., 1., 1.,\n",
       "       1., 1., 1., 1., 1., 1., 1., 1., 1., 1., 1., 1., 1., 1., 1., 1., 1.,\n",
       "       1., 1., 1., 1., 1., 1., 1., 1., 1., 1., 1., 1., 1., 1., 1., 1., 1.,\n",
       "       1., 1., 1., 1., 1., 1., 1., 1., 1., 1., 1., 1., 1., 1., 1., 1., 1.,\n",
       "       1., 1., 1., 1., 1., 1., 1., 1., 1., 1., 1., 1., 1., 1., 1., 1., 1.,\n",
       "       1., 1., 1., 1., 1., 1., 1., 1., 1., 1., 1., 1., 1., 1., 1., 1., 1.,\n",
       "       1., 1., 1., 1., 1., 1., 1., 1., 1., 1., 1., 1., 1., 1., 1., 1., 1.,\n",
       "       1., 1., 1., 1., 1., 1., 1., 1., 1., 1., 1., 1., 1., 1., 1., 1., 1.,\n",
       "       1., 1., 1., 1., 1., 1., 1., 1., 1., 1., 1., 1., 1., 1., 1., 1., 1.,\n",
       "       1., 1., 1., 1., 1., 1., 1., 1., 1., 1., 1., 1., 1., 1., 1., 1., 1.,\n",
       "       1., 1., 1., 1., 1., 1., 1., 1., 1., 1., 1., 1., 1., 1., 1., 1., 1.,\n",
       "       1., 1., 1., 1., 1., 1., 1., 1., 1., 1., 1., 1., 1., 1., 1., 1., 1.,\n",
       "       1., 1., 1., 1., 1., 1., 1., 1., 1., 1., 1., 1., 1., 1., 1., 1., 1.,\n",
       "       1., 1., 1., 1., 1., 1., 1., 1., 1., 1., 1., 1., 1., 1., 1., 1., 1.,\n",
       "       1., 1., 1., 1., 1., 1., 1., 1., 1., 1., 1., 1., 1., 1., 1., 1., 1.,\n",
       "       1., 1., 1., 1., 1., 1., 1., 1., 1., 1., 1., 1., 1., 1., 1., 1., 1.,\n",
       "       1., 1., 1., 1., 1., 1., 1., 1., 1., 1., 1., 1., 1., 1., 1., 1., 1.,\n",
       "       1., 1., 1., 1., 1., 1., 1., 1., 1., 1., 1., 1., 1., 1., 1., 1., 1.,\n",
       "       1., 1., 1., 1., 1., 1., 1., 1., 1., 1., 1., 1., 1., 1., 1., 1., 1.,\n",
       "       1., 1., 1., 1., 1., 1., 1., 1., 1., 1., 1., 1., 1.])"
      ]
     },
     "execution_count": 36,
     "metadata": {},
     "output_type": "execute_result"
    }
   ],
   "source": [
    "prob.sum(axis=1)"
   ]
  },
  {
   "cell_type": "code",
   "execution_count": 37,
   "metadata": {},
   "outputs": [
    {
     "data": {
      "text/plain": [
       "array([[48,  0,  0,  0,  0,  0,  0,  0,  0,  1],\n",
       "       [ 0, 56,  0,  0,  0,  0,  0,  1,  2,  1],\n",
       "       [ 0,  4, 45,  0,  1,  0,  1,  0,  6,  0],\n",
       "       [ 0,  2,  0, 41,  0,  2,  0,  6,  6,  0],\n",
       "       [ 0,  6,  0,  0, 46,  1,  2, 12,  0,  0],\n",
       "       [ 0,  1,  0,  0,  0, 50,  0,  2,  1,  0],\n",
       "       [ 0,  0,  0,  0,  0,  0, 44,  0,  0,  0],\n",
       "       [ 0,  0,  0,  0,  0,  0,  0, 47,  0,  0],\n",
       "       [ 0, 15,  0,  0,  0,  2,  0,  2, 37,  0],\n",
       "       [ 0,  3,  1,  4,  0,  0,  1,  4,  4, 32]], dtype=int64)"
      ]
     },
     "execution_count": 37,
     "metadata": {},
     "output_type": "execute_result"
    }
   ],
   "source": [
    "# 使用混淆矩阵来查看贝叶斯的分类结果\n",
    "from sklearn.metrics import confusion_matrix  as CM\n",
    "\n",
    "CM(y_test, y_pred)"
   ]
  }
 ],
 "metadata": {
  "kernelspec": {
   "display_name": "Python 3",
   "language": "python",
   "name": "python3"
  },
  "language_info": {
   "codemirror_mode": {
    "name": "ipython",
    "version": 3
   },
   "file_extension": ".py",
   "mimetype": "text/x-python",
   "name": "python",
   "nbconvert_exporter": "python",
   "pygments_lexer": "ipython3",
   "version": "3.7.4"
  }
 },
 "nbformat": 4,
 "nbformat_minor": 2
}
