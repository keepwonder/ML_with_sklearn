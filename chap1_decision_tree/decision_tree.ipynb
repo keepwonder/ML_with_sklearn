{
 "cells": [
  {
   "cell_type": "code",
   "execution_count": 2,
   "metadata": {
    "collapsed": true
   },
   "outputs": [],
   "source": [
    "# 导入需要的算法库和模块\n",
    "from sklearn import tree\n",
    "from sklearn import datasets\n",
    "from sklearn.model_selection import train_test_split"
   ]
  },
  {
   "cell_type": "code",
   "execution_count": 3,
   "metadata": {
    "pycharm": {
     "name": "#%%\n"
    }
   },
   "outputs": [
    {
     "data": {
      "text/plain": "(178, 13)"
     },
     "execution_count": 3,
     "metadata": {},
     "output_type": "execute_result"
    }
   ],
   "source": [
    "# 探索数据\n",
    "wine = datasets.load_wine()\n",
    "wine.data.shape"
   ]
  },
  {
   "cell_type": "code",
   "execution_count": 4,
   "metadata": {
    "pycharm": {
     "name": "#%%\n"
    }
   },
   "outputs": [
    {
     "data": {
      "text/plain": "array([0, 0, 0, 0, 0, 0, 0, 0, 0, 0, 0, 0, 0, 0, 0, 0, 0, 0, 0, 0, 0, 0,\n       0, 0, 0, 0, 0, 0, 0, 0, 0, 0, 0, 0, 0, 0, 0, 0, 0, 0, 0, 0, 0, 0,\n       0, 0, 0, 0, 0, 0, 0, 0, 0, 0, 0, 0, 0, 0, 0, 1, 1, 1, 1, 1, 1, 1,\n       1, 1, 1, 1, 1, 1, 1, 1, 1, 1, 1, 1, 1, 1, 1, 1, 1, 1, 1, 1, 1, 1,\n       1, 1, 1, 1, 1, 1, 1, 1, 1, 1, 1, 1, 1, 1, 1, 1, 1, 1, 1, 1, 1, 1,\n       1, 1, 1, 1, 1, 1, 1, 1, 1, 1, 1, 1, 1, 1, 1, 1, 1, 1, 1, 1, 2, 2,\n       2, 2, 2, 2, 2, 2, 2, 2, 2, 2, 2, 2, 2, 2, 2, 2, 2, 2, 2, 2, 2, 2,\n       2, 2, 2, 2, 2, 2, 2, 2, 2, 2, 2, 2, 2, 2, 2, 2, 2, 2, 2, 2, 2, 2,\n       2, 2])"
     },
     "execution_count": 4,
     "metadata": {},
     "output_type": "execute_result"
    }
   ],
   "source": [
    "wine.target"
   ]
  },
  {
   "cell_type": "code",
   "execution_count": 5,
   "metadata": {
    "pycharm": {
     "name": "#%%\n"
    }
   },
   "outputs": [
    {
     "data": {
      "text/plain": "        0     1     2     3      4     5     6     7     8      9     10  \\\n0    14.23  1.71  2.43  15.6  127.0  2.80  3.06  0.28  2.29   5.64  1.04   \n1    13.20  1.78  2.14  11.2  100.0  2.65  2.76  0.26  1.28   4.38  1.05   \n2    13.16  2.36  2.67  18.6  101.0  2.80  3.24  0.30  2.81   5.68  1.03   \n3    14.37  1.95  2.50  16.8  113.0  3.85  3.49  0.24  2.18   7.80  0.86   \n4    13.24  2.59  2.87  21.0  118.0  2.80  2.69  0.39  1.82   4.32  1.04   \n..     ...   ...   ...   ...    ...   ...   ...   ...   ...    ...   ...   \n173  13.71  5.65  2.45  20.5   95.0  1.68  0.61  0.52  1.06   7.70  0.64   \n174  13.40  3.91  2.48  23.0  102.0  1.80  0.75  0.43  1.41   7.30  0.70   \n175  13.27  4.28  2.26  20.0  120.0  1.59  0.69  0.43  1.35  10.20  0.59   \n176  13.17  2.59  2.37  20.0  120.0  1.65  0.68  0.53  1.46   9.30  0.60   \n177  14.13  4.10  2.74  24.5   96.0  2.05  0.76  0.56  1.35   9.20  0.61   \n\n       11      12  0   \n0    3.92  1065.0   0  \n1    3.40  1050.0   0  \n2    3.17  1185.0   0  \n3    3.45  1480.0   0  \n4    2.93   735.0   0  \n..    ...     ...  ..  \n173  1.74   740.0   2  \n174  1.56   750.0   2  \n175  1.56   835.0   2  \n176  1.62   840.0   2  \n177  1.60   560.0   2  \n\n[178 rows x 14 columns]",
      "text/html": "<div>\n<style scoped>\n    .dataframe tbody tr th:only-of-type {\n        vertical-align: middle;\n    }\n\n    .dataframe tbody tr th {\n        vertical-align: top;\n    }\n\n    .dataframe thead th {\n        text-align: right;\n    }\n</style>\n<table border=\"1\" class=\"dataframe\">\n  <thead>\n    <tr style=\"text-align: right;\">\n      <th></th>\n      <th>0</th>\n      <th>1</th>\n      <th>2</th>\n      <th>3</th>\n      <th>4</th>\n      <th>5</th>\n      <th>6</th>\n      <th>7</th>\n      <th>8</th>\n      <th>9</th>\n      <th>10</th>\n      <th>11</th>\n      <th>12</th>\n      <th>0</th>\n    </tr>\n  </thead>\n  <tbody>\n    <tr>\n      <td>0</td>\n      <td>14.23</td>\n      <td>1.71</td>\n      <td>2.43</td>\n      <td>15.6</td>\n      <td>127.0</td>\n      <td>2.80</td>\n      <td>3.06</td>\n      <td>0.28</td>\n      <td>2.29</td>\n      <td>5.64</td>\n      <td>1.04</td>\n      <td>3.92</td>\n      <td>1065.0</td>\n      <td>0</td>\n    </tr>\n    <tr>\n      <td>1</td>\n      <td>13.20</td>\n      <td>1.78</td>\n      <td>2.14</td>\n      <td>11.2</td>\n      <td>100.0</td>\n      <td>2.65</td>\n      <td>2.76</td>\n      <td>0.26</td>\n      <td>1.28</td>\n      <td>4.38</td>\n      <td>1.05</td>\n      <td>3.40</td>\n      <td>1050.0</td>\n      <td>0</td>\n    </tr>\n    <tr>\n      <td>2</td>\n      <td>13.16</td>\n      <td>2.36</td>\n      <td>2.67</td>\n      <td>18.6</td>\n      <td>101.0</td>\n      <td>2.80</td>\n      <td>3.24</td>\n      <td>0.30</td>\n      <td>2.81</td>\n      <td>5.68</td>\n      <td>1.03</td>\n      <td>3.17</td>\n      <td>1185.0</td>\n      <td>0</td>\n    </tr>\n    <tr>\n      <td>3</td>\n      <td>14.37</td>\n      <td>1.95</td>\n      <td>2.50</td>\n      <td>16.8</td>\n      <td>113.0</td>\n      <td>3.85</td>\n      <td>3.49</td>\n      <td>0.24</td>\n      <td>2.18</td>\n      <td>7.80</td>\n      <td>0.86</td>\n      <td>3.45</td>\n      <td>1480.0</td>\n      <td>0</td>\n    </tr>\n    <tr>\n      <td>4</td>\n      <td>13.24</td>\n      <td>2.59</td>\n      <td>2.87</td>\n      <td>21.0</td>\n      <td>118.0</td>\n      <td>2.80</td>\n      <td>2.69</td>\n      <td>0.39</td>\n      <td>1.82</td>\n      <td>4.32</td>\n      <td>1.04</td>\n      <td>2.93</td>\n      <td>735.0</td>\n      <td>0</td>\n    </tr>\n    <tr>\n      <td>...</td>\n      <td>...</td>\n      <td>...</td>\n      <td>...</td>\n      <td>...</td>\n      <td>...</td>\n      <td>...</td>\n      <td>...</td>\n      <td>...</td>\n      <td>...</td>\n      <td>...</td>\n      <td>...</td>\n      <td>...</td>\n      <td>...</td>\n      <td>...</td>\n    </tr>\n    <tr>\n      <td>173</td>\n      <td>13.71</td>\n      <td>5.65</td>\n      <td>2.45</td>\n      <td>20.5</td>\n      <td>95.0</td>\n      <td>1.68</td>\n      <td>0.61</td>\n      <td>0.52</td>\n      <td>1.06</td>\n      <td>7.70</td>\n      <td>0.64</td>\n      <td>1.74</td>\n      <td>740.0</td>\n      <td>2</td>\n    </tr>\n    <tr>\n      <td>174</td>\n      <td>13.40</td>\n      <td>3.91</td>\n      <td>2.48</td>\n      <td>23.0</td>\n      <td>102.0</td>\n      <td>1.80</td>\n      <td>0.75</td>\n      <td>0.43</td>\n      <td>1.41</td>\n      <td>7.30</td>\n      <td>0.70</td>\n      <td>1.56</td>\n      <td>750.0</td>\n      <td>2</td>\n    </tr>\n    <tr>\n      <td>175</td>\n      <td>13.27</td>\n      <td>4.28</td>\n      <td>2.26</td>\n      <td>20.0</td>\n      <td>120.0</td>\n      <td>1.59</td>\n      <td>0.69</td>\n      <td>0.43</td>\n      <td>1.35</td>\n      <td>10.20</td>\n      <td>0.59</td>\n      <td>1.56</td>\n      <td>835.0</td>\n      <td>2</td>\n    </tr>\n    <tr>\n      <td>176</td>\n      <td>13.17</td>\n      <td>2.59</td>\n      <td>2.37</td>\n      <td>20.0</td>\n      <td>120.0</td>\n      <td>1.65</td>\n      <td>0.68</td>\n      <td>0.53</td>\n      <td>1.46</td>\n      <td>9.30</td>\n      <td>0.60</td>\n      <td>1.62</td>\n      <td>840.0</td>\n      <td>2</td>\n    </tr>\n    <tr>\n      <td>177</td>\n      <td>14.13</td>\n      <td>4.10</td>\n      <td>2.74</td>\n      <td>24.5</td>\n      <td>96.0</td>\n      <td>2.05</td>\n      <td>0.76</td>\n      <td>0.56</td>\n      <td>1.35</td>\n      <td>9.20</td>\n      <td>0.61</td>\n      <td>1.60</td>\n      <td>560.0</td>\n      <td>2</td>\n    </tr>\n  </tbody>\n</table>\n<p>178 rows × 14 columns</p>\n</div>"
     },
     "execution_count": 5,
     "metadata": {},
     "output_type": "execute_result"
    }
   ],
   "source": [
    "import pandas as pd\n",
    "pd.concat([pd.DataFrame(wine.data), pd.DataFrame(wine.target)],axis=1)"
   ]
  },
  {
   "cell_type": "code",
   "execution_count": 6,
   "metadata": {
    "pycharm": {
     "name": "#%%\n"
    }
   },
   "outputs": [
    {
     "name": "stdout",
     "output_type": "stream",
     "text": [
      "(124, 13)\n",
      "(54, 13)\n"
     ]
    }
   ],
   "source": [
    "# 分训练集和测试集\n",
    "Xtrain, Xtest, Ytrain, Ytest = train_test_split(wine.data, wine.target, test_size=0.3)\n",
    "print(Xtrain.shape)\n",
    "print(Xtest.shape)"
   ]
  },
  {
   "cell_type": "code",
   "execution_count": 7,
   "metadata": {
    "pycharm": {
     "name": "#%%\n"
    }
   },
   "outputs": [
    {
     "name": "stdout",
     "output_type": "stream",
     "text": [
      "0.8518518518518519\n"
     ]
    }
   ],
   "source": [
    "# 建立模型\n",
    "clf = tree.DecisionTreeClassifier()\n",
    "clf = clf.fit(Xtrain, Ytrain)\n",
    "score = clf.score(Xtest, Ytest)\n",
    "print(score)"
   ]
  },
  {
   "cell_type": "code",
   "execution_count": 8,
   "metadata": {
    "pycharm": {
     "name": "#%%\n"
    }
   },
   "outputs": [
    {
     "data": {
      "text/plain": "<graphviz.files.Source at 0x22b66ca4a08>",
      "image/svg+xml": "<?xml version=\"1.0\" encoding=\"UTF-8\" standalone=\"no\"?>\r\n<!DOCTYPE svg PUBLIC \"-//W3C//DTD SVG 1.1//EN\"\r\n \"http://www.w3.org/Graphics/SVG/1.1/DTD/svg11.dtd\">\r\n<!-- Generated by graphviz version 2.38.0 (20140413.2041)\r\n -->\r\n<!-- Title: Tree Pages: 1 -->\r\n<svg width=\"711pt\" height=\"433pt\"\r\n viewBox=\"0.00 0.00 711.00 433.00\" xmlns=\"http://www.w3.org/2000/svg\" xmlns:xlink=\"http://www.w3.org/1999/xlink\">\r\n<g id=\"graph0\" class=\"graph\" transform=\"scale(1 1) rotate(0) translate(4 429)\">\r\n<title>Tree</title>\r\n<polygon fill=\"white\" stroke=\"none\" points=\"-4,4 -4,-429 707,-429 707,4 -4,4\"/>\r\n<!-- 0 -->\r\n<g id=\"node1\" class=\"node\"><title>0</title>\r\n<path fill=\"#e8fcf0\" stroke=\"black\" d=\"M399,-425C399,-425 286,-425 286,-425 280,-425 274,-419 274,-413 274,-413 274,-354 274,-354 274,-348 280,-342 286,-342 286,-342 399,-342 399,-342 405,-342 411,-348 411,-354 411,-354 411,-413 411,-413 411,-419 405,-425 399,-425\"/>\r\n<text text-anchor=\"middle\" x=\"342.5\" y=\"-409.8\" font-family=\"Helvetica,sans-Serif\" font-size=\"14.00\">颜色强度 &lt;= 4.02</text>\r\n<text text-anchor=\"middle\" x=\"342.5\" y=\"-394.8\" font-family=\"Helvetica,sans-Serif\" font-size=\"14.00\">gini = 0.661</text>\r\n<text text-anchor=\"middle\" x=\"342.5\" y=\"-379.8\" font-family=\"Helvetica,sans-Serif\" font-size=\"14.00\">samples = 124</text>\r\n<text text-anchor=\"middle\" x=\"342.5\" y=\"-364.8\" font-family=\"Helvetica,sans-Serif\" font-size=\"14.00\">value = [39, 49, 36]</text>\r\n<text text-anchor=\"middle\" x=\"342.5\" y=\"-349.8\" font-family=\"Helvetica,sans-Serif\" font-size=\"14.00\">class = 雪莉</text>\r\n</g>\r\n<!-- 1 -->\r\n<g id=\"node2\" class=\"node\"><title>1</title>\r\n<path fill=\"#4be78c\" stroke=\"black\" d=\"M297,-306C297,-306 200,-306 200,-306 194,-306 188,-300 188,-294 188,-294 188,-235 188,-235 188,-229 194,-223 200,-223 200,-223 297,-223 297,-223 303,-223 309,-229 309,-235 309,-235 309,-294 309,-294 309,-300 303,-306 297,-306\"/>\r\n<text text-anchor=\"middle\" x=\"248.5\" y=\"-290.8\" font-family=\"Helvetica,sans-Serif\" font-size=\"14.00\">脯氨酸 &lt;= 790.0</text>\r\n<text text-anchor=\"middle\" x=\"248.5\" y=\"-275.8\" font-family=\"Helvetica,sans-Serif\" font-size=\"14.00\">gini = 0.15</text>\r\n<text text-anchor=\"middle\" x=\"248.5\" y=\"-260.8\" font-family=\"Helvetica,sans-Serif\" font-size=\"14.00\">samples = 49</text>\r\n<text text-anchor=\"middle\" x=\"248.5\" y=\"-245.8\" font-family=\"Helvetica,sans-Serif\" font-size=\"14.00\">value = [4, 45, 0]</text>\r\n<text text-anchor=\"middle\" x=\"248.5\" y=\"-230.8\" font-family=\"Helvetica,sans-Serif\" font-size=\"14.00\">class = 雪莉</text>\r\n</g>\r\n<!-- 0&#45;&gt;1 -->\r\n<g id=\"edge1\" class=\"edge\"><title>0&#45;&gt;1</title>\r\n<path fill=\"none\" stroke=\"black\" d=\"M309.887,-341.907C302.669,-332.923 294.95,-323.315 287.506,-314.05\"/>\r\n<polygon fill=\"black\" stroke=\"black\" points=\"290.047,-311.624 281.055,-306.021 284.59,-316.009 290.047,-311.624\"/>\r\n<text text-anchor=\"middle\" x=\"278.346\" y=\"-327.174\" font-family=\"Helvetica,sans-Serif\" font-size=\"14.00\">True</text>\r\n</g>\r\n<!-- 6 -->\r\n<g id=\"node7\" class=\"node\"><title>6</title>\r\n<path fill=\"#fcfafe\" stroke=\"black\" d=\"M489,-306C489,-306 384,-306 384,-306 378,-306 372,-300 372,-294 372,-294 372,-235 372,-235 372,-229 378,-223 384,-223 384,-223 489,-223 489,-223 495,-223 501,-229 501,-235 501,-235 501,-294 501,-294 501,-300 495,-306 489,-306\"/>\r\n<text text-anchor=\"middle\" x=\"436.5\" y=\"-290.8\" font-family=\"Helvetica,sans-Serif\" font-size=\"14.00\">类黄酮 &lt;= 1.58</text>\r\n<text text-anchor=\"middle\" x=\"436.5\" y=\"-275.8\" font-family=\"Helvetica,sans-Serif\" font-size=\"14.00\">gini = 0.549</text>\r\n<text text-anchor=\"middle\" x=\"436.5\" y=\"-260.8\" font-family=\"Helvetica,sans-Serif\" font-size=\"14.00\">samples = 75</text>\r\n<text text-anchor=\"middle\" x=\"436.5\" y=\"-245.8\" font-family=\"Helvetica,sans-Serif\" font-size=\"14.00\">value = [35, 4, 36]</text>\r\n<text text-anchor=\"middle\" x=\"436.5\" y=\"-230.8\" font-family=\"Helvetica,sans-Serif\" font-size=\"14.00\">class = 贝尔摩德</text>\r\n</g>\r\n<!-- 0&#45;&gt;6 -->\r\n<g id=\"edge6\" class=\"edge\"><title>0&#45;&gt;6</title>\r\n<path fill=\"none\" stroke=\"black\" d=\"M375.113,-341.907C382.331,-332.923 390.05,-323.315 397.494,-314.05\"/>\r\n<polygon fill=\"black\" stroke=\"black\" points=\"400.41,-316.009 403.945,-306.021 394.953,-311.624 400.41,-316.009\"/>\r\n<text text-anchor=\"middle\" x=\"406.654\" y=\"-327.174\" font-family=\"Helvetica,sans-Serif\" font-size=\"14.00\">False</text>\r\n</g>\r\n<!-- 2 -->\r\n<g id=\"node3\" class=\"node\"><title>2</title>\r\n<path fill=\"#39e581\" stroke=\"black\" d=\"M109,-179.5C109,-179.5 12,-179.5 12,-179.5 6,-179.5 0,-173.5 0,-167.5 0,-167.5 0,-123.5 0,-123.5 0,-117.5 6,-111.5 12,-111.5 12,-111.5 109,-111.5 109,-111.5 115,-111.5 121,-117.5 121,-123.5 121,-123.5 121,-167.5 121,-167.5 121,-173.5 115,-179.5 109,-179.5\"/>\r\n<text text-anchor=\"middle\" x=\"60.5\" y=\"-164.3\" font-family=\"Helvetica,sans-Serif\" font-size=\"14.00\">gini = 0.0</text>\r\n<text text-anchor=\"middle\" x=\"60.5\" y=\"-149.3\" font-family=\"Helvetica,sans-Serif\" font-size=\"14.00\">samples = 43</text>\r\n<text text-anchor=\"middle\" x=\"60.5\" y=\"-134.3\" font-family=\"Helvetica,sans-Serif\" font-size=\"14.00\">value = [0, 43, 0]</text>\r\n<text text-anchor=\"middle\" x=\"60.5\" y=\"-119.3\" font-family=\"Helvetica,sans-Serif\" font-size=\"14.00\">class = 雪莉</text>\r\n</g>\r\n<!-- 1&#45;&gt;2 -->\r\n<g id=\"edge2\" class=\"edge\"><title>1&#45;&gt;2</title>\r\n<path fill=\"none\" stroke=\"black\" d=\"M187.981,-225.836C166.942,-212.743 143.33,-198.049 122.198,-184.897\"/>\r\n<polygon fill=\"black\" stroke=\"black\" points=\"123.957,-181.869 113.617,-179.557 120.258,-187.812 123.957,-181.869\"/>\r\n</g>\r\n<!-- 3 -->\r\n<g id=\"node4\" class=\"node\"><title>3</title>\r\n<path fill=\"#f2c09c\" stroke=\"black\" d=\"M346,-187C346,-187 151,-187 151,-187 145,-187 139,-181 139,-175 139,-175 139,-116 139,-116 139,-110 145,-104 151,-104 151,-104 346,-104 346,-104 352,-104 358,-110 358,-116 358,-116 358,-175 358,-175 358,-181 352,-187 346,-187\"/>\r\n<text text-anchor=\"middle\" x=\"248.5\" y=\"-171.8\" font-family=\"Helvetica,sans-Serif\" font-size=\"14.00\">od280/od315稀释葡萄酒 &lt;= 2.66</text>\r\n<text text-anchor=\"middle\" x=\"248.5\" y=\"-156.8\" font-family=\"Helvetica,sans-Serif\" font-size=\"14.00\">gini = 0.444</text>\r\n<text text-anchor=\"middle\" x=\"248.5\" y=\"-141.8\" font-family=\"Helvetica,sans-Serif\" font-size=\"14.00\">samples = 6</text>\r\n<text text-anchor=\"middle\" x=\"248.5\" y=\"-126.8\" font-family=\"Helvetica,sans-Serif\" font-size=\"14.00\">value = [4, 2, 0]</text>\r\n<text text-anchor=\"middle\" x=\"248.5\" y=\"-111.8\" font-family=\"Helvetica,sans-Serif\" font-size=\"14.00\">class = 琴酒</text>\r\n</g>\r\n<!-- 1&#45;&gt;3 -->\r\n<g id=\"edge3\" class=\"edge\"><title>1&#45;&gt;3</title>\r\n<path fill=\"none\" stroke=\"black\" d=\"M248.5,-222.907C248.5,-214.649 248.5,-205.864 248.5,-197.302\"/>\r\n<polygon fill=\"black\" stroke=\"black\" points=\"252,-197.021 248.5,-187.021 245,-197.021 252,-197.021\"/>\r\n</g>\r\n<!-- 4 -->\r\n<g id=\"node5\" class=\"node\"><title>4</title>\r\n<path fill=\"#39e581\" stroke=\"black\" d=\"M226,-68C226,-68 137,-68 137,-68 131,-68 125,-62 125,-56 125,-56 125,-12 125,-12 125,-6 131,-0 137,-0 137,-0 226,-0 226,-0 232,-0 238,-6 238,-12 238,-12 238,-56 238,-56 238,-62 232,-68 226,-68\"/>\r\n<text text-anchor=\"middle\" x=\"181.5\" y=\"-52.8\" font-family=\"Helvetica,sans-Serif\" font-size=\"14.00\">gini = 0.0</text>\r\n<text text-anchor=\"middle\" x=\"181.5\" y=\"-37.8\" font-family=\"Helvetica,sans-Serif\" font-size=\"14.00\">samples = 2</text>\r\n<text text-anchor=\"middle\" x=\"181.5\" y=\"-22.8\" font-family=\"Helvetica,sans-Serif\" font-size=\"14.00\">value = [0, 2, 0]</text>\r\n<text text-anchor=\"middle\" x=\"181.5\" y=\"-7.8\" font-family=\"Helvetica,sans-Serif\" font-size=\"14.00\">class = 雪莉</text>\r\n</g>\r\n<!-- 3&#45;&gt;4 -->\r\n<g id=\"edge4\" class=\"edge\"><title>3&#45;&gt;4</title>\r\n<path fill=\"none\" stroke=\"black\" d=\"M223.552,-103.726C218.194,-94.9703 212.524,-85.7032 207.141,-76.9051\"/>\r\n<polygon fill=\"black\" stroke=\"black\" points=\"210.08,-75.0028 201.875,-68.2996 204.109,-78.6563 210.08,-75.0028\"/>\r\n</g>\r\n<!-- 5 -->\r\n<g id=\"node6\" class=\"node\"><title>5</title>\r\n<path fill=\"#e58139\" stroke=\"black\" d=\"M357,-68C357,-68 268,-68 268,-68 262,-68 256,-62 256,-56 256,-56 256,-12 256,-12 256,-6 262,-0 268,-0 268,-0 357,-0 357,-0 363,-0 369,-6 369,-12 369,-12 369,-56 369,-56 369,-62 363,-68 357,-68\"/>\r\n<text text-anchor=\"middle\" x=\"312.5\" y=\"-52.8\" font-family=\"Helvetica,sans-Serif\" font-size=\"14.00\">gini = 0.0</text>\r\n<text text-anchor=\"middle\" x=\"312.5\" y=\"-37.8\" font-family=\"Helvetica,sans-Serif\" font-size=\"14.00\">samples = 4</text>\r\n<text text-anchor=\"middle\" x=\"312.5\" y=\"-22.8\" font-family=\"Helvetica,sans-Serif\" font-size=\"14.00\">value = [4, 0, 0]</text>\r\n<text text-anchor=\"middle\" x=\"312.5\" y=\"-7.8\" font-family=\"Helvetica,sans-Serif\" font-size=\"14.00\">class = 琴酒</text>\r\n</g>\r\n<!-- 3&#45;&gt;5 -->\r\n<g id=\"edge5\" class=\"edge\"><title>3&#45;&gt;5</title>\r\n<path fill=\"none\" stroke=\"black\" d=\"M272.331,-103.726C277.396,-95.0615 282.752,-85.8962 287.847,-77.1802\"/>\r\n<polygon fill=\"black\" stroke=\"black\" points=\"291.013,-78.6992 293.037,-68.2996 284.969,-75.167 291.013,-78.6992\"/>\r\n</g>\r\n<!-- 7 -->\r\n<g id=\"node8\" class=\"node\"><title>7</title>\r\n<path fill=\"#8139e5\" stroke=\"black\" d=\"M485,-179.5C485,-179.5 388,-179.5 388,-179.5 382,-179.5 376,-173.5 376,-167.5 376,-167.5 376,-123.5 376,-123.5 376,-117.5 382,-111.5 388,-111.5 388,-111.5 485,-111.5 485,-111.5 491,-111.5 497,-117.5 497,-123.5 497,-123.5 497,-167.5 497,-167.5 497,-173.5 491,-179.5 485,-179.5\"/>\r\n<text text-anchor=\"middle\" x=\"436.5\" y=\"-164.3\" font-family=\"Helvetica,sans-Serif\" font-size=\"14.00\">gini = 0.0</text>\r\n<text text-anchor=\"middle\" x=\"436.5\" y=\"-149.3\" font-family=\"Helvetica,sans-Serif\" font-size=\"14.00\">samples = 36</text>\r\n<text text-anchor=\"middle\" x=\"436.5\" y=\"-134.3\" font-family=\"Helvetica,sans-Serif\" font-size=\"14.00\">value = [0, 0, 36]</text>\r\n<text text-anchor=\"middle\" x=\"436.5\" y=\"-119.3\" font-family=\"Helvetica,sans-Serif\" font-size=\"14.00\">class = 贝尔摩德</text>\r\n</g>\r\n<!-- 6&#45;&gt;7 -->\r\n<g id=\"edge7\" class=\"edge\"><title>6&#45;&gt;7</title>\r\n<path fill=\"none\" stroke=\"black\" d=\"M436.5,-222.907C436.5,-212.204 436.5,-200.615 436.5,-189.776\"/>\r\n<polygon fill=\"black\" stroke=\"black\" points=\"440,-189.667 436.5,-179.667 433,-189.667 440,-189.667\"/>\r\n</g>\r\n<!-- 8 -->\r\n<g id=\"node9\" class=\"node\"><title>8</title>\r\n<path fill=\"#e88f50\" stroke=\"black\" d=\"M624,-187C624,-187 527,-187 527,-187 521,-187 515,-181 515,-175 515,-175 515,-116 515,-116 515,-110 521,-104 527,-104 527,-104 624,-104 624,-104 630,-104 636,-110 636,-116 636,-116 636,-175 636,-175 636,-181 630,-187 624,-187\"/>\r\n<text text-anchor=\"middle\" x=\"575.5\" y=\"-171.8\" font-family=\"Helvetica,sans-Serif\" font-size=\"14.00\">镁 &lt;= 89.5</text>\r\n<text text-anchor=\"middle\" x=\"575.5\" y=\"-156.8\" font-family=\"Helvetica,sans-Serif\" font-size=\"14.00\">gini = 0.184</text>\r\n<text text-anchor=\"middle\" x=\"575.5\" y=\"-141.8\" font-family=\"Helvetica,sans-Serif\" font-size=\"14.00\">samples = 39</text>\r\n<text text-anchor=\"middle\" x=\"575.5\" y=\"-126.8\" font-family=\"Helvetica,sans-Serif\" font-size=\"14.00\">value = [35, 4, 0]</text>\r\n<text text-anchor=\"middle\" x=\"575.5\" y=\"-111.8\" font-family=\"Helvetica,sans-Serif\" font-size=\"14.00\">class = 琴酒</text>\r\n</g>\r\n<!-- 6&#45;&gt;8 -->\r\n<g id=\"edge8\" class=\"edge\"><title>6&#45;&gt;8</title>\r\n<path fill=\"none\" stroke=\"black\" d=\"M484.725,-222.907C495.938,-213.469 507.969,-203.343 519.485,-193.649\"/>\r\n<polygon fill=\"black\" stroke=\"black\" points=\"521.963,-196.138 527.36,-187.021 517.455,-190.783 521.963,-196.138\"/>\r\n</g>\r\n<!-- 9 -->\r\n<g id=\"node10\" class=\"node\"><title>9</title>\r\n<path fill=\"#39e581\" stroke=\"black\" d=\"M552,-68C552,-68 463,-68 463,-68 457,-68 451,-62 451,-56 451,-56 451,-12 451,-12 451,-6 457,-0 463,-0 463,-0 552,-0 552,-0 558,-0 564,-6 564,-12 564,-12 564,-56 564,-56 564,-62 558,-68 552,-68\"/>\r\n<text text-anchor=\"middle\" x=\"507.5\" y=\"-52.8\" font-family=\"Helvetica,sans-Serif\" font-size=\"14.00\">gini = 0.0</text>\r\n<text text-anchor=\"middle\" x=\"507.5\" y=\"-37.8\" font-family=\"Helvetica,sans-Serif\" font-size=\"14.00\">samples = 4</text>\r\n<text text-anchor=\"middle\" x=\"507.5\" y=\"-22.8\" font-family=\"Helvetica,sans-Serif\" font-size=\"14.00\">value = [0, 4, 0]</text>\r\n<text text-anchor=\"middle\" x=\"507.5\" y=\"-7.8\" font-family=\"Helvetica,sans-Serif\" font-size=\"14.00\">class = 雪莉</text>\r\n</g>\r\n<!-- 8&#45;&gt;9 -->\r\n<g id=\"edge9\" class=\"edge\"><title>8&#45;&gt;9</title>\r\n<path fill=\"none\" stroke=\"black\" d=\"M550.179,-103.726C544.742,-94.9703 538.987,-85.7032 533.523,-76.9051\"/>\r\n<polygon fill=\"black\" stroke=\"black\" points=\"536.428,-74.9484 528.179,-68.2996 530.481,-78.6413 536.428,-74.9484\"/>\r\n</g>\r\n<!-- 10 -->\r\n<g id=\"node11\" class=\"node\"><title>10</title>\r\n<path fill=\"#e58139\" stroke=\"black\" d=\"M691,-68C691,-68 594,-68 594,-68 588,-68 582,-62 582,-56 582,-56 582,-12 582,-12 582,-6 588,-0 594,-0 594,-0 691,-0 691,-0 697,-0 703,-6 703,-12 703,-12 703,-56 703,-56 703,-62 697,-68 691,-68\"/>\r\n<text text-anchor=\"middle\" x=\"642.5\" y=\"-52.8\" font-family=\"Helvetica,sans-Serif\" font-size=\"14.00\">gini = 0.0</text>\r\n<text text-anchor=\"middle\" x=\"642.5\" y=\"-37.8\" font-family=\"Helvetica,sans-Serif\" font-size=\"14.00\">samples = 35</text>\r\n<text text-anchor=\"middle\" x=\"642.5\" y=\"-22.8\" font-family=\"Helvetica,sans-Serif\" font-size=\"14.00\">value = [35, 0, 0]</text>\r\n<text text-anchor=\"middle\" x=\"642.5\" y=\"-7.8\" font-family=\"Helvetica,sans-Serif\" font-size=\"14.00\">class = 琴酒</text>\r\n</g>\r\n<!-- 8&#45;&gt;10 -->\r\n<g id=\"edge10\" class=\"edge\"><title>8&#45;&gt;10</title>\r\n<path fill=\"none\" stroke=\"black\" d=\"M600.448,-103.726C605.806,-94.9703 611.476,-85.7032 616.859,-76.9051\"/>\r\n<polygon fill=\"black\" stroke=\"black\" points=\"619.891,-78.6563 622.125,-68.2996 613.92,-75.0028 619.891,-78.6563\"/>\r\n</g>\r\n</g>\r\n</svg>\r\n"
     },
     "execution_count": 8,
     "metadata": {},
     "output_type": "execute_result"
    }
   ],
   "source": [
    "# 画一颗决策树\n",
    "feature_name = ['酒精', '苹果酸', '灰', '灰的碱性', '镁', '总酚', '类黄酮', '非黄烷类酚类', '花青素',\n",
    "                 '颜色强度', '色调', 'od280/od315稀释葡萄酒', '脯氨酸']\n",
    "import graphviz\n",
    "\n",
    "dot_data = tree.export_graphviz(clf\n",
    "                                ,out_file=None\n",
    "                                ,feature_names=feature_name\n",
    "                                ,class_names=['琴酒', '雪莉', '贝尔摩德']\n",
    "                                ,filled=True\n",
    "                                ,rounded=True)\n",
    "graph = graphviz.Source(dot_data)\n",
    "graph"
   ]
  }
 ],
 "metadata": {
  "kernelspec": {
   "display_name": "Python 3",
   "language": "python",
   "name": "python3"
  },
  "language_info": {
   "codemirror_mode": {
    "name": "ipython",
    "version": 3
   },
   "file_extension": ".py",
   "mimetype": "text/x-python",
   "name": "python",
   "nbconvert_exporter": "python",
   "pygments_lexer": "ipython3",
   "version": "3.7.4"
  }
 },
 "nbformat": 4,
 "nbformat_minor": 1
}